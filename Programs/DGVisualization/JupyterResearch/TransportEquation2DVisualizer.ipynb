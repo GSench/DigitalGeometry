{
 "cells": [
  {
   "cell_type": "markdown",
   "id": "ready-audio",
   "metadata": {},
   "source": [
    "# Программа визуализации расчетов 2D Уравнения Переноса"
   ]
  },
  {
   "cell_type": "markdown",
   "id": "following-premises",
   "metadata": {},
   "source": [
    "### Считывание рассчитанных значений из файла"
   ]
  },
  {
   "cell_type": "code",
   "execution_count": 1,
   "id": "deadly-receiver",
   "metadata": {},
   "outputs": [],
   "source": [
    "def read2DOutput(filename):\n",
    "    file = open(filename, \"r\")\n",
    "\n",
    "    meshParamsLine = file.readline()\n",
    "    cellCountX, cellCountY, dx = [float(val) for val in meshParamsLine.split(\"\\t\") if val != \"\"][:4]\n",
    "    cellCountX = int(cellCountX)\n",
    "    cellCountY = int(cellCountY)\n",
    "    \n",
    "    timeParamsLine = file.readline()\n",
    "    NTimeSteps, realNTimeSteps, dt  = [float(val) for val in timeParamsLine.split(\"\\t\") if val != \"\"][:3]\n",
    "    NTimeSteps = int(NTimeSteps)\n",
    "    realNTimeSteps = int(realNTimeSteps)\n",
    "    \n",
    "    frames = []\n",
    "    for i in range(realNTimeSteps+1):\n",
    "        f = []\n",
    "        for y in range(cellCountY):\n",
    "            lineX = file.readline()\n",
    "            fx = [float(fi) for fi in lineX.split(\"\\t\") if len(fi)>1 or fi.isnumeric()]\n",
    "            f.append(fx)\n",
    "        frames.append(f.copy())\n",
    "    \n",
    "    file.close()\n",
    "    return cellCountX, cellCountY, dx, NTimeSteps, realNTimeSteps, dt, frames"
   ]
  },
  {
   "cell_type": "code",
   "execution_count": 2,
   "id": "ahead-poison",
   "metadata": {},
   "outputs": [
    {
     "name": "stdout",
     "output_type": "stream",
     "text": [
      "D:\\Programing\\C++\\DigitalGeometry\\Programs\\Output\n",
      "D:\\Programing\\C++\\DigitalGeometry\\Programs\\Output\\CalculationResults\n",
      "D:\\Programing\\C++\\DigitalGeometry\\Programs\\Output\\GraphicsResults\n"
     ]
    }
   ],
   "source": [
    "from FoldersConfig import *\n",
    "\n",
    "print(OutputDir)\n",
    "print(CalculationResultsPath)\n",
    "print(PlotOutputPath)"
   ]
  },
  {
   "cell_type": "code",
   "execution_count": 3,
   "id": "bacterial-muslim",
   "metadata": {},
   "outputs": [],
   "source": [
    "cellCountX, cellCountY, dx, NTimeSteps, realNTimeSteps, dt, frames = read2DOutput(downDir(CalculationResultsPath, \"Solve2DWhiteBearMovementTest.txt\"))"
   ]
  },
  {
   "cell_type": "code",
   "execution_count": 4,
   "id": "strong-franklin",
   "metadata": {},
   "outputs": [
    {
     "name": "stdout",
     "output_type": "stream",
     "text": [
      "cellCountX:  128\n",
      "cellCountY:  128\n",
      "dx:  0.0078125\n",
      "NTimeSteps:  400\n",
      "realNTimeSteps:  50\n",
      "dt:  0.015625\n"
     ]
    }
   ],
   "source": [
    "print(\"cellCountX: \", cellCountX)\n",
    "print(\"cellCountY: \", cellCountY)\n",
    "print(\"dx: \", dx)\n",
    "print(\"NTimeSteps: \", NTimeSteps)\n",
    "print(\"realNTimeSteps: \", realNTimeSteps)\n",
    "print(\"dt: \", dt)"
   ]
  },
  {
   "cell_type": "code",
   "execution_count": 5,
   "id": "homeless-hypothesis",
   "metadata": {},
   "outputs": [],
   "source": [
    "import matplotlib.pyplot as plt"
   ]
  },
  {
   "cell_type": "code",
   "execution_count": 6,
   "id": "inside-advice",
   "metadata": {},
   "outputs": [],
   "source": [
    "def lowValueHighlighter(f):\n",
    "    fh = []\n",
    "    for y in range(len(f)):\n",
    "        fh.append([])\n",
    "        for x in range(len(f[y])):\n",
    "            fh[y].append(pow(f[y][x], 0.125))\n",
    "    return fh"
   ]
  },
  {
   "cell_type": "code",
   "execution_count": 7,
   "id": "pediatric-effects",
   "metadata": {},
   "outputs": [
    {
     "data": {
      "text/plain": [
       "<matplotlib.image.AxesImage at 0x1fcc2423d30>"
      ]
     },
     "execution_count": 7,
     "metadata": {},
     "output_type": "execute_result"
    },
    {
     "data": {
      "image/png": "[encoded data removed]",
      "text/plain": [
       "<Figure size 864x864 with 1 Axes>"
      ]
     },
     "metadata": {
      "needs_background": "light"
     },
     "output_type": "display_data"
    }
   ],
   "source": [
    "fig = plt.figure(figsize=(12, 12))\n",
    "plt.imshow(lowValueHighlighter(frames[0]), origin='lower')"
   ]
  },
  {
   "cell_type": "code",
   "execution_count": 8,
   "id": "alpha-anthony",
   "metadata": {},
   "outputs": [],
   "source": [
    "from celluloid import Camera"
   ]
  },
  {
   "cell_type": "code",
   "execution_count": 10,
   "id": "modern-cookie",
   "metadata": {},
   "outputs": [
    {
     "name": "stderr",
     "output_type": "stream",
     "text": [
      "MovieWriter PillowWriter unavailable; using Pillow instead.\n"
     ]
    },
    {
     "name": "stdout",
     "output_type": "stream",
     "text": [
      "Animation real time:  6.25\n",
      "Animation real time step:  0.25\n",
      "Animation fps:  4.0\n"
     ]
    },
    {
     "data": {
      "image/png": "[encoded data removed]",
      "text/plain": [
       "<Figure size 864x864 with 1 Axes>"
      ]
     },
     "metadata": {
      "needs_background": "light"
     },
     "output_type": "display_data"
    }
   ],
   "source": [
    "fig = plt.figure(figsize=(12, 12))\n",
    "camera = Camera(fig)\n",
    "for frame in frames:\n",
    "    plt.imshow(frame, origin='lower')\n",
    "    #plt.imshow(lowValueHighlighter(frame), origin='lower')\n",
    "    camera.snap()\n",
    "animation = camera.animate()\n",
    "\n",
    "slowmo = 2\n",
    "time = dt * NTimeSteps\n",
    "print(\"Animation real time: \", time)\n",
    "realTimeStep = time / realNTimeSteps * slowmo\n",
    "print(\"Animation real time step: \", realTimeStep)\n",
    "fps = 1 / realTimeStep\n",
    "print(\"Animation fps: \", fps)\n",
    "\n",
    "animation.save(downDir(PlotOutputPath, 'animation2D.gif'), writer='PillowWriter', fps=fps)"
   ]
  },
  {
   "cell_type": "code",
   "execution_count": null,
   "id": "crucial-harris",
   "metadata": {},
   "outputs": [],
   "source": []
  }
 ],
 "metadata": {
  "kernelspec": {
   "display_name": "Python 3",
   "language": "python",
   "name": "python3"
  },
  "language_info": {
   "codemirror_mode": {
    "name": "ipython",
    "version": 3
   },
   "file_extension": ".py",
   "mimetype": "text/x-python",
   "name": "python",
   "nbconvert_exporter": "python",
   "pygments_lexer": "ipython3",
   "version": "3.9.1"
  }
 },
 "nbformat": 4,
 "nbformat_minor": 5
}
